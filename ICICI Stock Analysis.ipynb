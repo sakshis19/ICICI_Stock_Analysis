{
 "cells": [
  {
   "cell_type": "markdown",
   "id": "1d3881c2-0f20-4858-b440-985e20bd7bd0",
   "metadata": {},
   "source": [
    "Project Title: Stock Market Data Analysis and Trend Forecasting using PySpark"
   ]
  },
  {
   "cell_type": "markdown",
   "id": "94daff8a-5f09-463b-a899-4e3f734fcf38",
   "metadata": {},
   "source": [
    "Step 1: Project Setup and Data Understanding\n",
    "\n",
    "Phase 1: Project Setup and Data Understanding"
   ]
  },
  {
   "cell_type": "code",
   "execution_count": null,
   "id": "436c095a",
   "metadata": {},
   "outputs": [],
   "source": []
  },
  {
   "cell_type": "code",
   "execution_count": 30,
   "id": "ef3e499e-db53-43a7-a3dd-36ce5775ce8f",
   "metadata": {},
   "outputs": [
    {
     "name": "stdout",
     "output_type": "stream",
     "text": [
      "Requirement already satisfied: pyspark in c:\\users\\tanma\\anaconda3\\lib\\site-packages (3.5.5)\n",
      "Requirement already satisfied: py4j==0.10.9.7 in c:\\users\\tanma\\anaconda3\\lib\\site-packages (from pyspark) (0.10.9.7)\n"
     ]
    }
   ],
   "source": [
    "!pip install pyspark"
   ]
  },
  {
   "cell_type": "code",
   "execution_count": 32,
   "id": "3971415a-7b4a-4020-a6df-903a5e4d6635",
   "metadata": {},
   "outputs": [],
   "source": [
    "import findspark\n",
    "findspark.init()"
   ]
  },
  {
   "cell_type": "code",
   "execution_count": 34,
   "id": "1681d029-6d92-4cf7-814d-b39fd7428b68",
   "metadata": {},
   "outputs": [],
   "source": [
    "from pyspark.sql import SparkSession\n",
    "\n",
    "spark = SparkSession.builder.appName(\"ICICI Analysis\").getOrCreate()\n",
    "sc = spark.sparkContext"
   ]
  },
  {
   "cell_type": "code",
   "execution_count": 36,
   "id": "20c455be-9e0a-4d15-837d-2432c58cef54",
   "metadata": {},
   "outputs": [],
   "source": [
    "file_path = r'C:\\Users\\tanma\\OneDrive\\Desktop\\PySpark Project\\ICICIBANK.csv'"
   ]
  },
  {
   "cell_type": "code",
   "execution_count": 38,
   "id": "dc199f37-2c03-4cb4-aa44-0be5118c4612",
   "metadata": {},
   "outputs": [],
   "source": [
    "df_icici = spark.read.csv(file_path, header = True, inferSchema = True)"
   ]
  },
  {
   "cell_type": "markdown",
   "id": "d4f24234-60f5-456b-abeb-02e8b7e0b22b",
   "metadata": {},
   "source": [
    "1. Basic Data Exploration\n",
    "\n",
    "a) Check the Schema"
   ]
  },
  {
   "cell_type": "code",
   "execution_count": 40,
   "id": "9c780c30-402e-4e67-abc0-d98dfa673276",
   "metadata": {},
   "outputs": [
    {
     "name": "stdout",
     "output_type": "stream",
     "text": [
      "root\n",
      " |-- Price: timestamp (nullable = true)\n",
      " |-- Adj Close: double (nullable = true)\n",
      " |-- Close: double (nullable = true)\n",
      " |-- High: double (nullable = true)\n",
      " |-- Low: double (nullable = true)\n",
      " |-- Open: double (nullable = true)\n",
      " |-- Volume: integer (nullable = true)\n",
      "\n"
     ]
    }
   ],
   "source": [
    "df_icici.printSchema()"
   ]
  },
  {
   "cell_type": "markdown",
   "id": "e92b5722-ea3d-42f8-9699-cc9264321fdc",
   "metadata": {},
   "source": [
    "b) Show Initial Rows"
   ]
  },
  {
   "cell_type": "code",
   "execution_count": 51,
   "id": "17b1954a-3017-49b3-afdf-f88f514400bb",
   "metadata": {},
   "outputs": [
    {
     "name": "stdout",
     "output_type": "stream",
     "text": [
      "+-------------------+-----------+-----------+-----------+-----------+-----------+-------+\n",
      "|               Date|  Adj Close|      Close|       High|        Low|       Open| Volume|\n",
      "+-------------------+-----------+-----------+-----------+-----------+-----------+-------+\n",
      "|2002-07-01 05:30:00|17.83141708|25.12727165|25.81818008|24.81818008|25.41818047|2047540|\n",
      "|2002-07-02 05:30:00|18.97974968|26.74545479|27.63636208|25.23636246|25.45454407|5546354|\n",
      "|2002-07-03 05:30:00| 19.9345417|28.09090805|28.18181801|26.64545441|26.72727203|5745267|\n",
      "|2002-07-04 05:30:00|19.43779373|27.39090919|28.79999924| 27.0363636|28.18181801|3896601|\n",
      "|2002-07-05 05:30:00|19.63778496|27.67272758|27.86363602|26.94545364|27.09090805|3261038|\n",
      "|2002-07-08 05:30:00|19.33456802|27.24545479|27.89090919|27.17272758|27.88181877|2092667|\n",
      "|2002-07-09 05:30:00| 19.2249012|27.09090805|27.68181801| 26.9272728|27.39999962|1026800|\n",
      "|2002-07-10 05:30:00|19.15393829|26.99090958|27.27272606|26.90909004|27.23636246|1513611|\n",
      "|2002-07-11 05:30:00|19.01200294|26.79090881|27.08181763|26.54545403|27.08181763|1454750|\n",
      "|2002-07-12 05:30:00|19.01200294|26.79090881|27.40909004|26.67272758|27.27272606| 475040|\n",
      "+-------------------+-----------+-----------+-----------+-----------+-----------+-------+\n",
      "only showing top 10 rows\n",
      "\n"
     ]
    }
   ],
   "source": [
    "df_icici = df_icici.withColumnRenamed('Price','Date')\n",
    "df_icici.show(10)\n"
   ]
  },
  {
   "cell_type": "markdown",
   "id": "cd4f0b1b-88aa-4d66-aeb5-dfccd01fea6f",
   "metadata": {},
   "source": [
    "c) Summary Statistics"
   ]
  },
  {
   "cell_type": "code",
   "execution_count": 44,
   "id": "eb54b7c6-a49f-42dc-b184-5e1243c32138",
   "metadata": {},
   "outputs": [
    {
     "name": "stdout",
     "output_type": "stream",
     "text": [
      "+-------+------------------+------------------+-----------------+------------------+------------------+--------------------+\n",
      "|summary|         Adj Close|             Close|             High|               Low|              Open|              Volume|\n",
      "+-------+------------------+------------------+-----------------+------------------+------------------+--------------------+\n",
      "|  count|              5555|              5555|             5555|              5555|              5555|                5555|\n",
      "|   mean|292.39948505289783|312.10546517288424|316.0452045315438| 308.1061106533795|312.20347511738976| 1.899552776111611E7|\n",
      "| stddev| 290.8242445086597| 289.2001672247756| 291.513701024517|286.73874632277324|289.08091027781444|1.8255547861005865E7|\n",
      "|    min|       14.26384544|       20.10000038|      21.45454407|       19.89090919|       20.27272606|                   0|\n",
      "|    max|       1338.449951|       1338.449951|      1362.349976|       1316.900024|            1333.0|           286857658|\n",
      "+-------+------------------+------------------+-----------------+------------------+------------------+--------------------+\n",
      "\n"
     ]
    }
   ],
   "source": [
    "df_icici.describe().show()"
   ]
  },
  {
   "cell_type": "markdown",
   "id": "b88828dc-f835-43df-b7ab-6213208dc35c",
   "metadata": {},
   "source": [
    "1. Register the DataFrame as a SQL temporary view"
   ]
  },
  {
   "cell_type": "code",
   "execution_count": 53,
   "id": "276aec9d-ae9e-4c26-98bf-bc0faa1593cc",
   "metadata": {},
   "outputs": [],
   "source": [
    "df_icici.createOrReplaceTempView('icici_stock')"
   ]
  },
  {
   "cell_type": "markdown",
   "id": "382a5649-478d-4ee0-a4b4-e0f90b8d8385",
   "metadata": {},
   "source": [
    "2. Check for Null Values"
   ]
  },
  {
   "cell_type": "code",
   "execution_count": 56,
   "id": "26d1fc3f-ca83-4131-81b9-e8a84501bf14",
   "metadata": {},
   "outputs": [
    {
     "name": "stdout",
     "output_type": "stream",
     "text": [
      "+--------------+--------------+--------------+-------------+---------------+----------------+\n",
      "|Date_NullCount|Open_NullCount|High_NullCount|Low_NullCount|Close_NullCount|Volume_NullCount|\n",
      "+--------------+--------------+--------------+-------------+---------------+----------------+\n",
      "|             0|             0|             0|            0|              0|               0|\n",
      "+--------------+--------------+--------------+-------------+---------------+----------------+\n",
      "\n"
     ]
    }
   ],
   "source": [
    "spark.sql(\"\"\"\n",
    "SELECT\n",
    "SUM(CASE WHEN Date IS NULL THEN 1 ELSE 0 END) AS Date_NullCount,\n",
    "SUM(CASE WHEN Open IS NULL THEN 1 ELSE 0 END) AS Open_NullCount,\n",
    "SUM(CASE WHEN High IS NULL THEN 1 ELSE 0 END) AS High_NullCount,\n",
    "SUM(CASE WHEN Low IS NULL THEN 1 ELSE 0 END) AS Low_NullCount,\n",
    "SUM(CASE WHEN Close IS NULL THEN 1 ELSE 0 END) AS Close_NullCount,\n",
    "SUM(CASE WHEN Volume IS NULL THEN 1 ELSE 0 END) AS Volume_NullCount\n",
    "FROM icici_stock\n",
    "\"\"\").show()"
   ]
  },
  {
   "cell_type": "markdown",
   "id": "6e359cc3-a670-4ff0-9224-1236cf86243b",
   "metadata": {},
   "source": [
    "3. Summary Statistics by SQL"
   ]
  },
  {
   "cell_type": "code",
   "execution_count": 58,
   "id": "c33703f4-df39-477a-bfb6-239e9f9741b7",
   "metadata": {},
   "outputs": [
    {
     "name": "stdout",
     "output_type": "stream",
     "text": [
      "+-----------+-----------+------------------+-----------------+\n",
      "|  min_close|  max_close|         avg_close|     stddev_close|\n",
      "+-----------+-----------+------------------+-----------------+\n",
      "|20.10000038|1338.449951|312.10546517288424|289.2001672247756|\n",
      "+-----------+-----------+------------------+-----------------+\n",
      "\n"
     ]
    }
   ],
   "source": [
    "spark.sql(\"\"\"SELECT \n",
    "MIN(Close) AS min_close,\n",
    "MAX(Close) AS max_close,\n",
    "AVG(Close) AS avg_close,\n",
    "STDDEV(Close) AS stddev_close\n",
    "FROM icici_stock\"\"\").show()"
   ]
  },
  {
   "cell_type": "markdown",
   "id": "cc57f637-73e7-4610-b27b-98f580a79964",
   "metadata": {},
   "source": [
    "1.5 Data Quality Checks"
   ]
  },
  {
   "cell_type": "markdown",
   "id": "17bb829a-de62-4a1f-88f5-620b14dba0b5",
   "metadata": {},
   "source": [
    "a) Check for Duplicates"
   ]
  },
  {
   "cell_type": "code",
   "execution_count": 62,
   "id": "27329119-63f6-45c0-b84f-93e0dae1f3d7",
   "metadata": {},
   "outputs": [
    {
     "name": "stdout",
     "output_type": "stream",
     "text": [
      "0\n"
     ]
    }
   ],
   "source": [
    "unique_count = df_icici.count() - df_icici.dropDuplicates().count()\n",
    "print(unique_count)"
   ]
  },
  {
   "cell_type": "markdown",
   "id": "36bdc5db-ef75-46dd-82e6-5b31b3476f51",
   "metadata": {},
   "source": [
    "Phase 2: Data Cleaning and Preparation"
   ]
  },
  {
   "cell_type": "markdown",
   "id": "1333de97-d76e-4788-9fbf-8430838abbb6",
   "metadata": {},
   "source": [
    "a) Drop rows with missing values and drop duplicates rows."
   ]
  },
  {
   "cell_type": "code",
   "execution_count": 66,
   "id": "0b7fa459-c3a4-4961-95cb-298007b7528b",
   "metadata": {},
   "outputs": [
    {
     "data": {
      "text/plain": [
       "5555"
      ]
     },
     "execution_count": 66,
     "metadata": {},
     "output_type": "execute_result"
    }
   ],
   "source": [
    "df_icici = df_icici.dropna().dropDuplicates()\n",
    "df_icici.count()"
   ]
  },
  {
   "cell_type": "markdown",
   "id": "4a11e6fa-866d-40dd-bb18-8c02da1f9bbd",
   "metadata": {},
   "source": [
    "2.3 Add New Columns for Analysis"
   ]
  },
  {
   "cell_type": "markdown",
   "id": "34f23487-777a-4789-9b83-942757d42ccb",
   "metadata": {},
   "source": [
    "a) Calculate Daily Returns"
   ]
  },
  {
   "cell_type": "code",
   "execution_count": 70,
   "id": "8a298ab1-f15e-41f0-8b86-542ac8336c02",
   "metadata": {},
   "outputs": [],
   "source": [
    "from pyspark.sql.window import Window\n",
    "from pyspark.sql.functions import *\n",
    "\n",
    "window_spec = Window.orderBy('Date')\n"
   ]
  },
  {
   "cell_type": "code",
   "execution_count": 72,
   "id": "6aeec99b-a52b-4f99-9c25-07babbc45aa9",
   "metadata": {},
   "outputs": [
    {
     "name": "stdout",
     "output_type": "stream",
     "text": [
      "+-------------------+-----------+-----------+-----------+-----------+-----------+-------+-----------+--------------------+\n",
      "|               Date|  Adj Close|      Close|       High|        Low|       Open| Volume| Prev_Close|        Daily_Return|\n",
      "+-------------------+-----------+-----------+-----------+-----------+-----------+-------+-----------+--------------------+\n",
      "|2002-07-01 05:30:00|17.83141708|25.12727165|25.81818008|24.81818008|25.41818047|2047540|       NULL|                NULL|\n",
      "|2002-07-02 05:30:00|18.97974968|26.74545479|27.63636208|25.23636246|25.45454407|5546354|25.12727165|  6.4399476494695325|\n",
      "|2002-07-03 05:30:00| 19.9345417|28.09090805|28.18181801|26.64545441|26.72727203|5745267|26.74545479|   5.030586582147252|\n",
      "|2002-07-04 05:30:00|19.43779373|27.39090919|28.79999924| 27.0363636|28.18181801|3896601|28.09090805| -2.4919054191984404|\n",
      "|2002-07-05 05:30:00|19.63778496|27.67272758|27.86363602|26.94545364|27.09090805|3261038|27.39090919|  1.0288756318570438|\n",
      "|2002-07-08 05:30:00|19.33456802|27.24545479|27.89090919|27.17272758|27.88181877|2092667|27.67272758| -1.5440212344980557|\n",
      "|2002-07-09 05:30:00| 19.2249012|27.09090805|27.68181801| 26.9272728|27.39999962|1026800|27.24545479| -0.5672386135272902|\n",
      "|2002-07-10 05:30:00|19.15393829|26.99090958|27.27272606|26.90909004|27.23636246|1513611|27.09090805|-0.36912188331021695|\n",
      "|2002-07-11 05:30:00|19.01200294|26.79090881|27.08181763|26.54545403|27.08181763|1454750|26.99090958| -0.7409930717866495|\n",
      "|2002-07-12 05:30:00|19.01200294|26.79090881|27.40909004|26.67272758|27.27272606| 475040|26.79090881|                 0.0|\n",
      "+-------------------+-----------+-----------+-----------+-----------+-----------+-------+-----------+--------------------+\n",
      "only showing top 10 rows\n",
      "\n"
     ]
    }
   ],
   "source": [
    "df_icici = df_icici.withColumn(\"Prev_Close\", lag(\"Close\").over(window_spec))\n",
    "df_icici = df_icici.withColumn(\"Daily_Return\", ((col(\"Close\") - col(\"Prev_Close\")) / col(\"Prev_Close\")) * 100)\n",
    "\n",
    "df_icici.show(10)"
   ]
  },
  {
   "cell_type": "markdown",
   "id": "bbd181cc-9e48-4566-ad6b-39daa3591289",
   "metadata": {},
   "source": [
    "b) Calculate Moving Averages for 50 days and 200 days Window."
   ]
  },
  {
   "cell_type": "code",
   "execution_count": 75,
   "id": "54843c59-d9f0-4801-bc24-46fab6b009f6",
   "metadata": {},
   "outputs": [
    {
     "name": "stdout",
     "output_type": "stream",
     "text": [
      "+-------------------+-----------+-----------+-----------+-----------+-----------+-------+-----------+-------------------+------------------+------------------+\n",
      "|               Date|  Adj Close|      Close|       High|        Low|       Open| Volume| Prev_Close|       Daily_Return|        Mov_Avg_50|       Mov_Avg_200|\n",
      "+-------------------+-----------+-----------+-----------+-----------+-----------+-------+-----------+-------------------+------------------+------------------+\n",
      "|2002-07-01 05:30:00|17.83141708|25.12727165|25.81818008|24.81818008|25.41818047|2047540|       NULL|               NULL|       25.12727165|       25.12727165|\n",
      "|2002-07-02 05:30:00|18.97974968|26.74545479|27.63636208|25.23636246|25.45454407|5546354|25.12727165| 6.4399476494695325|       25.93636322|       25.93636322|\n",
      "|2002-07-03 05:30:00| 19.9345417|28.09090805|28.18181801|26.64545441|26.72727203|5745267|26.74545479|  5.030586582147252|26.654544830000003|26.654544830000003|\n",
      "|2002-07-04 05:30:00|19.43779373|27.39090919|28.79999924| 27.0363636|28.18181801|3896601|28.09090805|-2.4919054191984404|       26.83863592|       26.83863592|\n",
      "|2002-07-05 05:30:00|19.63778496|27.67272758|27.86363602|26.94545364|27.09090805|3261038|27.39090919| 1.0288756318570438|27.005454252000003|27.005454252000003|\n",
      "+-------------------+-----------+-----------+-----------+-----------+-----------+-------+-----------+-------------------+------------------+------------------+\n",
      "only showing top 5 rows\n",
      "\n"
     ]
    }
   ],
   "source": [
    "window_50 = Window.orderBy('date').rowsBetween(-49,0)\n",
    "df_icici = df_icici.withColumn('Mov_Avg_50',avg('Close').over(window_50))\n",
    "\n",
    "window_200 = Window.orderBy('date').rowsBetween(-199,0)\n",
    "df_icici = df_icici.withColumn('Mov_Avg_200',avg('Close').over(window_200))\n",
    "df_icici.show(5)"
   ]
  },
  {
   "cell_type": "markdown",
   "id": "2f75b97d-e52d-497c-8500-34a600d295c6",
   "metadata": {},
   "source": [
    "2.4 Remove Unwanted Columns"
   ]
  },
  {
   "cell_type": "code",
   "execution_count": 78,
   "id": "330ab134-14d7-4d69-b22f-9bace7e3071d",
   "metadata": {},
   "outputs": [
    {
     "name": "stdout",
     "output_type": "stream",
     "text": [
      "+-------------------+-----------+-----------+-----------+-----------+-----------+-------+-------------------+------------------+------------------+\n",
      "|               Date|  Adj Close|      Close|       High|        Low|       Open| Volume|       Daily_Return|        Mov_Avg_50|       Mov_Avg_200|\n",
      "+-------------------+-----------+-----------+-----------+-----------+-----------+-------+-------------------+------------------+------------------+\n",
      "|2002-07-01 05:30:00|17.83141708|25.12727165|25.81818008|24.81818008|25.41818047|2047540|               NULL|       25.12727165|       25.12727165|\n",
      "|2002-07-02 05:30:00|18.97974968|26.74545479|27.63636208|25.23636246|25.45454407|5546354| 6.4399476494695325|       25.93636322|       25.93636322|\n",
      "|2002-07-03 05:30:00| 19.9345417|28.09090805|28.18181801|26.64545441|26.72727203|5745267|  5.030586582147252|26.654544830000003|26.654544830000003|\n",
      "|2002-07-04 05:30:00|19.43779373|27.39090919|28.79999924| 27.0363636|28.18181801|3896601|-2.4919054191984404|       26.83863592|       26.83863592|\n",
      "|2002-07-05 05:30:00|19.63778496|27.67272758|27.86363602|26.94545364|27.09090805|3261038| 1.0288756318570438|27.005454252000003|27.005454252000003|\n",
      "+-------------------+-----------+-----------+-----------+-----------+-----------+-------+-------------------+------------------+------------------+\n",
      "only showing top 5 rows\n",
      "\n"
     ]
    }
   ],
   "source": [
    "df_icici = df_icici.drop('Prev_Close')\n",
    "df_icici.show(5)"
   ]
  },
  {
   "cell_type": "markdown",
   "id": "754b9047-e8bb-4028-a9d5-d2b3462c10cc",
   "metadata": {},
   "source": [
    "2.5 Final Data Check"
   ]
  },
  {
   "cell_type": "code",
   "execution_count": 81,
   "id": "51faddce-c467-4fa1-bd80-3100700f7fb1",
   "metadata": {},
   "outputs": [
    {
     "name": "stdout",
     "output_type": "stream",
     "text": [
      "root\n",
      " |-- Date: timestamp (nullable = true)\n",
      " |-- Adj Close: double (nullable = true)\n",
      " |-- Close: double (nullable = true)\n",
      " |-- High: double (nullable = true)\n",
      " |-- Low: double (nullable = true)\n",
      " |-- Open: double (nullable = true)\n",
      " |-- Volume: integer (nullable = true)\n",
      " |-- Daily_Return: double (nullable = true)\n",
      " |-- Mov_Avg_50: double (nullable = true)\n",
      " |-- Mov_Avg_200: double (nullable = true)\n",
      "\n",
      "+-------------------+-----------+-----------+-----------+-----------+-----------+-------+--------------------+------------------+------------------+\n",
      "|               Date|  Adj Close|      Close|       High|        Low|       Open| Volume|        Daily_Return|        Mov_Avg_50|       Mov_Avg_200|\n",
      "+-------------------+-----------+-----------+-----------+-----------+-----------+-------+--------------------+------------------+------------------+\n",
      "|2002-07-01 05:30:00|17.83141708|25.12727165|25.81818008|24.81818008|25.41818047|2047540|                NULL|       25.12727165|       25.12727165|\n",
      "|2002-07-02 05:30:00|18.97974968|26.74545479|27.63636208|25.23636246|25.45454407|5546354|  6.4399476494695325|       25.93636322|       25.93636322|\n",
      "|2002-07-03 05:30:00| 19.9345417|28.09090805|28.18181801|26.64545441|26.72727203|5745267|   5.030586582147252|26.654544830000003|26.654544830000003|\n",
      "|2002-07-04 05:30:00|19.43779373|27.39090919|28.79999924| 27.0363636|28.18181801|3896601| -2.4919054191984404|       26.83863592|       26.83863592|\n",
      "|2002-07-05 05:30:00|19.63778496|27.67272758|27.86363602|26.94545364|27.09090805|3261038|  1.0288756318570438|27.005454252000003|27.005454252000003|\n",
      "|2002-07-08 05:30:00|19.33456802|27.24545479|27.89090919|27.17272758|27.88181877|2092667| -1.5440212344980557| 27.04545434166667| 27.04545434166667|\n",
      "|2002-07-09 05:30:00| 19.2249012|27.09090805|27.68181801| 26.9272728|27.39999962|1026800| -0.5672386135272902| 27.05194772857143| 27.05194772857143|\n",
      "|2002-07-10 05:30:00|19.15393829|26.99090958|27.27272606|26.90909004|27.23636246|1513611|-0.36912188331021695|       27.04431796|       27.04431796|\n",
      "|2002-07-11 05:30:00|19.01200294|26.79090881|27.08181763|26.54545403|27.08181763|1454750| -0.7409930717866495|27.016161387777778|27.016161387777778|\n",
      "|2002-07-12 05:30:00|19.01200294|26.79090881|27.40909004|26.67272758|27.27272606| 475040|                 0.0|       26.99363613|       26.99363613|\n",
      "+-------------------+-----------+-----------+-----------+-----------+-----------+-------+--------------------+------------------+------------------+\n",
      "only showing top 10 rows\n",
      "\n"
     ]
    }
   ],
   "source": [
    "df_icici.printSchema()\n",
    "df_icici.show(10)"
   ]
  },
  {
   "cell_type": "markdown",
   "id": "2e03340a-7952-4e99-ac17-dc2daa8fb182",
   "metadata": {},
   "source": [
    "Phase 3: Exploratory Data Analysis (EDA)"
   ]
  },
  {
   "cell_type": "markdown",
   "id": "ed2f0d3c-8fa0-4834-a904-ff044e6130ac",
   "metadata": {},
   "source": [
    "3.1 Summary Statistics"
   ]
  },
  {
   "cell_type": "code",
   "execution_count": 85,
   "id": "836a13b0-47d9-47a0-8260-0fd47dfafefc",
   "metadata": {},
   "outputs": [
    {
     "name": "stdout",
     "output_type": "stream",
     "text": [
      "+-------+------------------+------------------+-----------------+------------------+------------------+--------------------+-------------------+-----------------+------------------+\n",
      "|summary|         Adj Close|             Close|             High|               Low|              Open|              Volume|       Daily_Return|       Mov_Avg_50|       Mov_Avg_200|\n",
      "+-------+------------------+------------------+-----------------+------------------+------------------+--------------------+-------------------+-----------------+------------------+\n",
      "|  count|              5555|              5555|             5555|              5555|              5555|                5555|               5554|             5555|              5555|\n",
      "|   mean|292.39948505289783|312.10546517288424|316.0452045315438| 308.1061106533795|312.20347511738976| 1.899552776111611E7|0.09944201361641007|306.6134454883574|290.90172949417234|\n",
      "| stddev| 290.8242445086597| 289.2001672247756| 291.513701024517|286.73874632277324|289.08091027781444|1.8255547861005865E7|  2.412881170179866|282.0426730792535| 262.2559785657344|\n",
      "|    min|       14.26384544|       20.10000038|      21.45454407|       19.89090919|       20.27272606|                   0|-19.856752339393942|    23.8187268068|24.895570608547004|\n",
      "|    max|       1338.449951|       1338.449951|      1362.349976|       1316.900024|            1333.0|           286857658| 23.038103857646927|    1268.13599372|1162.1844958379995|\n",
      "+-------+------------------+------------------+-----------------+------------------+------------------+--------------------+-------------------+-----------------+------------------+\n",
      "\n"
     ]
    }
   ],
   "source": [
    "df_icici.createOrReplaceTempView(\"icici_stock\")\n",
    "df_icici.describe().show()"
   ]
  },
  {
   "cell_type": "markdown",
   "id": "1a8ff79a-2fd7-4a17-bc2b-8bb4ba4c89e5",
   "metadata": {},
   "source": [
    "Using PySparkSQL:"
   ]
  },
  {
   "cell_type": "code",
   "execution_count": 88,
   "id": "8bac6df6-8029-4f1c-9c33-9eb78befb749",
   "metadata": {},
   "outputs": [
    {
     "name": "stdout",
     "output_type": "stream",
     "text": [
      "+-----------+-----------+------------------+-----------------+\n",
      "| max(Close)| min(CLose)|        avg(Close)|    stddev(Close)|\n",
      "+-----------+-----------+------------------+-----------------+\n",
      "|1338.449951|20.10000038|312.10546517288344|289.2001672247759|\n",
      "+-----------+-----------+------------------+-----------------+\n",
      "\n",
      "+-----------+-----------+-------------------+-------------------+\n",
      "|max(Volume)|min(Volume)|        avg(Volume)|     stddev(Volume)|\n",
      "+-----------+-----------+-------------------+-------------------+\n",
      "|  286857658|          0|1.899552776111611E7|1.825554786100588E7|\n",
      "+-----------+-----------+-------------------+-------------------+\n",
      "\n"
     ]
    }
   ],
   "source": [
    "spark.sql(\"\"\" SELECT MAX(Close) AS Max_Close,\n",
    "MIN(CLose) AS Min_Close,\n",
    "AVG(Close) AS Avg_Close,\n",
    "STDDEV(Close) AS StdDev_Close \n",
    "FROM icici_stock\"\"\").show()\n",
    "\n",
    "spark.sql(\"\"\"SELECT MAX(Volume) AS Max_Volume,\n",
    "MIN(Volume) AS Min_Volume,\n",
    "AVG(Volume) AS Avg_Volume,\n",
    "STDDEV(Volume) AS StdDev_Volume \n",
    "FROM icici_stock\"\"\").show()"
   ]
  },
  {
   "cell_type": "markdown",
   "id": "57e3bc0d-7fc6-49d3-806b-b4d57e7ca679",
   "metadata": {},
   "source": [
    "3.2 Analyze Daily Returns"
   ]
  },
  {
   "cell_type": "code",
   "execution_count": 91,
   "id": "5228a220-bd25-4d04-8391-8cdd34dc4198",
   "metadata": {},
   "outputs": [
    {
     "name": "stdout",
     "output_type": "stream",
     "text": [
      "+-------------------+--------------------+-------------------+------------------+\n",
      "|  avg(Daily_Return)|stddev(Daily_Return)|  min(Daily_Return)| max(Daily_Return)|\n",
      "+-------------------+--------------------+-------------------+------------------+\n",
      "|0.09944201361641007|   2.412881170179866|-19.856752339393942|23.038103857646927|\n",
      "+-------------------+--------------------+-------------------+------------------+\n",
      "\n"
     ]
    }
   ],
   "source": [
    "spark.sql(\"\"\"\n",
    "SELECT\n",
    "AVG(Daily_Return) AS Avg_Daily_Return,\n",
    "STDDEV(Daily_Return) AS StdDev_Daily_Return,\n",
    "MIN(Daily_Return) AS Min_Daily_Return,\n",
    "MAX(Daily_Return) AS Max_Daily_Return \n",
    "FROM icici_stock\n",
    "\"\"\").show()"
   ]
  },
  {
   "cell_type": "markdown",
   "id": "9282de36-5943-406b-af2d-052b2f74682c",
   "metadata": {},
   "source": [
    "3.3 Trend Analysis with Moving Averages"
   ]
  },
  {
   "cell_type": "markdown",
   "id": "d5fb66a4-8424-4ca6-b728-916b0f8fbc29",
   "metadata": {},
   "source": [
    "a) Calculate Rolling Averages"
   ]
  },
  {
   "cell_type": "code",
   "execution_count": 95,
   "id": "010d8d02-ff85-4f7b-b2de-a68c5b2f02a7",
   "metadata": {},
   "outputs": [
    {
     "name": "stdout",
     "output_type": "stream",
     "text": [
      "+-------------------+-----------+------------------+------------------+---------+\n",
      "|               Date|      Close|        Mov_Avg_50|       Mov_Avg_200|    Trend|\n",
      "+-------------------+-----------+------------------+------------------+---------+\n",
      "|2002-07-01 05:30:00|25.12727165|       25.12727165|       25.12727165|Downtrend|\n",
      "|2002-07-02 05:30:00|26.74545479|       25.93636322|       25.93636322|Downtrend|\n",
      "|2002-07-03 05:30:00|28.09090805|26.654544830000003|26.654544830000003|Downtrend|\n",
      "|2002-07-04 05:30:00|27.39090919|       26.83863592|       26.83863592|Downtrend|\n",
      "|2002-07-05 05:30:00|27.67272758|27.005454252000003|27.005454252000003|Downtrend|\n",
      "|2002-07-08 05:30:00|27.24545479| 27.04545434166667| 27.04545434166667|Downtrend|\n",
      "|2002-07-09 05:30:00|27.09090805| 27.05194772857143| 27.05194772857143|Downtrend|\n",
      "|2002-07-10 05:30:00|26.99090958|       27.04431796|       27.04431796|Downtrend|\n",
      "|2002-07-11 05:30:00|26.79090881|27.016161387777778|27.016161387777778|Downtrend|\n",
      "|2002-07-12 05:30:00|26.79090881|       26.99363613|       26.99363613|Downtrend|\n",
      "+-------------------+-----------+------------------+------------------+---------+\n",
      "only showing top 10 rows\n",
      "\n"
     ]
    }
   ],
   "source": [
    "spark.sql(\"\"\"\n",
    "SELECT\n",
    "Date,\n",
    "Close,\n",
    "Mov_Avg_50,\n",
    "Mov_Avg_200,\n",
    "CASE WHEN Mov_Avg_50 > Mov_Avg_200 THEN 'Uptrend' ELSE 'Downtrend' END AS Trend\n",
    "FROM icici_stock\n",
    "ORDER BY Date\n",
    "\"\"\").show(10)"
   ]
  },
  {
   "cell_type": "markdown",
   "id": "e6180a62-38be-4358-b205-0ffff090ea38",
   "metadata": {},
   "source": [
    "3.4 Volume Analysis"
   ]
  },
  {
   "cell_type": "code",
   "execution_count": 98,
   "id": "d360c661-ff7f-4c65-b744-e4a2a7d9784b",
   "metadata": {},
   "outputs": [
    {
     "name": "stdout",
     "output_type": "stream",
     "text": [
      "+-------------------+-----------+---------+--------------------+\n",
      "|               date|      Close|   Volume|        Daily_Return|\n",
      "+-------------------+-----------+---------+--------------------+\n",
      "|2019-11-26 05:30:00|510.7000122|286857658|   2.591407134622675|\n",
      "|2009-03-06 05:30:00|48.93636322|277252228|-0.33326935865382273|\n",
      "|2008-10-10 05:30:00|66.11817932|196556492| -19.856752339393942|\n",
      "|2009-03-31 05:30:00|60.50909042|188785256|   -1.56758668422299|\n",
      "|2011-11-30 05:30:00|129.5363617|175381222| -2.9293528598080525|\n",
      "|2009-03-17 05:30:00|58.79999924|175129680|  0.1858701788199187|\n",
      "|2008-10-13 05:30:00|77.30000305|167420044|  16.911874835333872|\n",
      "|2009-05-19 05:30:00|137.4818115|164921339|   6.936784808809662|\n",
      "|2009-03-12 05:30:00|51.66363525|150544240|   8.062361131387002|\n",
      "|2009-04-27 05:30:00|85.00908661|147298052|   7.705597455223141|\n",
      "+-------------------+-----------+---------+--------------------+\n",
      "only showing top 10 rows\n",
      "\n"
     ]
    }
   ],
   "source": [
    "spark.sql(\"\"\" SELECT date, \n",
    "Close, \n",
    "Volume, \n",
    "Daily_Return \n",
    "FROM icici_stock \n",
    "ORDER BY Volume DESC\"\"\").show(10)"
   ]
  },
  {
   "cell_type": "markdown",
   "id": "316fe876-5477-421d-a2d5-4670389a07f6",
   "metadata": {},
   "source": [
    "3.5 Seasonal Patterns Analysis"
   ]
  },
  {
   "cell_type": "markdown",
   "id": "1faefbbb-65cd-413b-a199-efaf13048d8e",
   "metadata": {},
   "source": [
    "Monthly Average Close Price and Volume"
   ]
  },
  {
   "cell_type": "code",
   "execution_count": 102,
   "id": "1c532af8-ff59-41b3-a9d7-f860dc5dde7b",
   "metadata": {},
   "outputs": [
    {
     "name": "stdout",
     "output_type": "stream",
     "text": [
      "+-----+------------------+--------------------+\n",
      "|Month| Avg_Monthly_Close|  Avg_Monthly_Volume|\n",
      "+-----+------------------+--------------------+\n",
      "|    1|311.88765613250007| 1.824935280387931E7|\n",
      "|    2|313.46152482630475| 1.805872689838337E7|\n",
      "|    3| 295.2848237876993| 2.353100746017699E7|\n",
      "|    4| 301.1020834953683| 2.237189463182898E7|\n",
      "|    5|310.45393119755863|2.0704726453961454E7|\n",
      "|    6|309.11974520747873|1.7384882888888888E7|\n",
      "|    7| 307.9801058479606| 1.766125538019802E7|\n",
      "|    8|314.32920311975255| 1.794891115257732E7|\n",
      "|    9| 324.9658654297053| 1.787948482736842E7|\n",
      "|   10| 329.1296669904948|1.9384070176344085E7|\n",
      "|   11| 320.6251954350331|1.9299934838137474E7|\n",
      "|   12|305.82673960119394| 1.607342941151386E7|\n",
      "+-----+------------------+--------------------+\n",
      "\n"
     ]
    }
   ],
   "source": [
    "spark.sql(\"\"\"\n",
    "SELECT\n",
    "MONTH(Date) AS Month,\n",
    "AVG(Close) AS Avg_Monthly_Close,\n",
    "AVG(Volume) AS Avg_Monthly_Volume\n",
    "FROM icici_stock\n",
    "GROUP BY MONTH(Date)\n",
    "ORDER BY Month\n",
    "\"\"\").show()"
   ]
  },
  {
   "cell_type": "markdown",
   "id": "6bba5dbc-60d0-4a4d-910b-bf1da2313592",
   "metadata": {},
   "source": [
    "3.6 Identify High and Low Volatility Periods"
   ]
  },
  {
   "cell_type": "markdown",
   "id": "26dd7f2f-afbd-4fe0-a182-7637846bbdc8",
   "metadata": {},
   "source": [
    "Identify Volatile Days"
   ]
  },
  {
   "cell_type": "code",
   "execution_count": 106,
   "id": "80ede010-4c33-4037-acdd-4a956dc10322",
   "metadata": {},
   "outputs": [
    {
     "name": "stdout",
     "output_type": "stream",
     "text": [
      "+-------------------+-----------+---------+-------------------+\n",
      "|               date|      close|   volume|       Daily_Return|\n",
      "+-------------------+-----------+---------+-------------------+\n",
      "|2009-05-18 05:30:00|128.5636292|   354381| 23.038103857646927|\n",
      "|2008-10-10 05:30:00|66.11817932|196556492|-19.856752339393942|\n",
      "|2020-03-23 05:30:00|      284.0| 56867949|  -17.8478478514789|\n",
      "|2008-10-13 05:30:00|77.30000305|167420044| 16.911874835333872|\n",
      "|2008-10-31 05:30:00|       72.5| 77742401|  15.46257471663437|\n",
      "|2017-10-25 05:30:00|305.7000122|123615362| 14.687685684448567|\n",
      "|2008-10-24 05:30:00|56.94545364| 92378528|-14.379438145166255|\n",
      "|2003-08-21 05:30:00| 32.4272728| 76284219| 13.852541484163897|\n",
      "|2020-04-07 05:30:00|326.1000061| 57661076| 13.762432597072504|\n",
      "|2008-03-17 05:30:00|138.1727295| 35297707|  -13.3416916736623|\n",
      "+-------------------+-----------+---------+-------------------+\n",
      "only showing top 10 rows\n",
      "\n"
     ]
    }
   ],
   "source": [
    "spark.sql(\"\"\" SELECT Date,\n",
    "Close,\n",
    "Volume,\n",
    "Daily_Return\n",
    "FROM icici_stock\n",
    "ORDER BY ABS(Daily_Return) DESC\"\"\").show(10)"
   ]
  },
  {
   "cell_type": "markdown",
   "id": "e3a6ef17-7a03-4c12-8964-5b21d0a25057",
   "metadata": {},
   "source": [
    "Phase 4: Correlation and Trend Analysis"
   ]
  },
  {
   "cell_type": "markdown",
   "id": "8c32d176-61e2-48ad-b162-be64e8ff6e7d",
   "metadata": {},
   "source": [
    "4.1 Correlation Analysis"
   ]
  },
  {
   "cell_type": "markdown",
   "id": "d38db29d-e00c-4993-9b22-db34e0083ba2",
   "metadata": {},
   "source": [
    "a) Correlation between Close Price and Volume"
   ]
  },
  {
   "cell_type": "code",
   "execution_count": 111,
   "id": "7e26d6da-972a-411f-9bf3-4e3284527a97",
   "metadata": {},
   "outputs": [
    {
     "name": "stdout",
     "output_type": "stream",
     "text": [
      "+------------------------+\n",
      "|Close_Volume_Correlation|\n",
      "+------------------------+\n",
      "|    -0.04218308259364...|\n",
      "+------------------------+\n",
      "\n"
     ]
    }
   ],
   "source": [
    "spark.sql(\"\"\"\n",
    "SELECT corr(Close, Volume) AS Close_Volume_Correlation\n",
    "FROM icici_stock\n",
    "\"\"\").show()"
   ]
  },
  {
   "cell_type": "markdown",
   "id": "f535c7eb-d826-4e8e-bb2f-37b8f3067c6d",
   "metadata": {},
   "source": [
    "b) Correlation Among Other Variables"
   ]
  },
  {
   "cell_type": "code",
   "execution_count": 114,
   "id": "63936597-535c-4575-ae9f-02cc460a5a72",
   "metadata": {},
   "outputs": [
    {
     "name": "stdout",
     "output_type": "stream",
     "text": [
      "+----------------------+----------------------+---------------------+------------------------+\n",
      "|Open_Close_Correlation|High_Close_Correlation|Low_Close_Correlation|Volume_Close_Correlation|\n",
      "+----------------------+----------------------+---------------------+------------------------+\n",
      "|     0.999785934516559|    0.9999106379302584|   0.9999018103450272|    -0.04218308259364835|\n",
      "+----------------------+----------------------+---------------------+------------------------+\n",
      "\n"
     ]
    }
   ],
   "source": [
    "spark.sql(\"\"\"\n",
    "SELECT\n",
    "corr(Open, Close) AS Open_Close_Correlation,\n",
    "corr(High, Close) AS High_Close_Correlation,\n",
    "corr(Low, Close) AS Low_Close_Correlation,\n",
    "corr(Volume, Close) AS Volume_Close_Correlation\n",
    "FROM icici_stock\n",
    "\"\"\").show()"
   ]
  },
  {
   "cell_type": "markdown",
   "id": "8a2b15e1-1501-4903-8ac6-f20e3c198375",
   "metadata": {},
   "source": [
    "4.2 Trend Analysis with Moving Averages"
   ]
  },
  {
   "cell_type": "markdown",
   "id": "5d8868c9-4398-43fb-a395-b81194eb1eab",
   "metadata": {},
   "source": [
    "a) Crossovers in Moving Averages"
   ]
  },
  {
   "cell_type": "code",
   "execution_count": 118,
   "id": "3d0988f9-14e4-41db-941c-31bfe982c071",
   "metadata": {},
   "outputs": [
    {
     "name": "stdout",
     "output_type": "stream",
     "text": [
      "+-------------------+-----------+------------------+------------------+---------+\n",
      "|               Date|      Close|        Mov_Avg_50|       Mov_Avg_200|    Trend|\n",
      "+-------------------+-----------+------------------+------------------+---------+\n",
      "|2002-07-01 05:30:00|25.12727165|       25.12727165|       25.12727165|Downtrend|\n",
      "|2002-07-02 05:30:00|26.74545479|       25.93636322|       25.93636322|Downtrend|\n",
      "|2002-07-03 05:30:00|28.09090805|26.654544830000003|26.654544830000003|Downtrend|\n",
      "|2002-07-04 05:30:00|27.39090919|       26.83863592|       26.83863592|Downtrend|\n",
      "|2002-07-05 05:30:00|27.67272758|27.005454252000003|27.005454252000003|Downtrend|\n",
      "|2002-07-08 05:30:00|27.24545479| 27.04545434166667| 27.04545434166667|Downtrend|\n",
      "|2002-07-09 05:30:00|27.09090805| 27.05194772857143| 27.05194772857143|Downtrend|\n",
      "|2002-07-10 05:30:00|26.99090958|       27.04431796|       27.04431796|Downtrend|\n",
      "|2002-07-11 05:30:00|26.79090881|27.016161387777778|27.016161387777778|Downtrend|\n",
      "|2002-07-12 05:30:00|26.79090881|       26.99363613|       26.99363613|Downtrend|\n",
      "+-------------------+-----------+------------------+------------------+---------+\n",
      "only showing top 10 rows\n",
      "\n"
     ]
    }
   ],
   "source": [
    "spark.sql(\"\"\"\n",
    "SELECT\n",
    "Date,\n",
    "Close,\n",
    "Mov_Avg_50,\n",
    "Mov_Avg_200,\n",
    "CASE\n",
    "WHEN Mov_Avg_50 > Mov_Avg_200 THEN 'Uptrend'\n",
    "ELSE 'Downtrend'\n",
    "END AS Trend\n",
    "FROM icici_stock\n",
    "ORDER BY Date\n",
    "\"\"\").show(10)"
   ]
  },
  {
   "cell_type": "markdown",
   "id": "d0f63ba7-2ca7-4a54-99d2-b5ff0c67df1e",
   "metadata": {},
   "source": [
    "4.3 Price Volatility Analysis"
   ]
  },
  {
   "cell_type": "markdown",
   "id": "b699d8c2-7572-461f-8556-3147c00fec41",
   "metadata": {},
   "source": [
    "a) Calculate Rolling Standard Deviation (Volatility)"
   ]
  },
  {
   "cell_type": "code",
   "execution_count": 122,
   "id": "6b2dba5a-fe33-4a7c-abd2-4d6d3e1a697e",
   "metadata": {},
   "outputs": [
    {
     "name": "stdout",
     "output_type": "stream",
     "text": [
      "+-------------------+-----------+--------------------+------------------+\n",
      "|               Date|      Close|        Daily_Return|     Volatility_30|\n",
      "+-------------------+-----------+--------------------+------------------+\n",
      "|2002-07-01 05:30:00|25.12727165|                NULL|              NULL|\n",
      "|2002-07-02 05:30:00|26.74545479|  6.4399476494695325|              NULL|\n",
      "|2002-07-03 05:30:00|28.09090805|   5.030586582147252| 0.996568767843895|\n",
      "|2002-07-04 05:30:00|27.39090919| -2.4919054191984404| 4.801947239899442|\n",
      "|2002-07-05 05:30:00|27.67272758|  1.0288756318570438|4.0418794502846485|\n",
      "|2002-07-08 05:30:00|27.24545479| -1.5440212344980557| 3.940361555003305|\n",
      "|2002-07-09 05:30:00|27.09090805| -0.5672386135272902| 3.643127398332478|\n",
      "|2002-07-10 05:30:00|26.99090958|-0.36912188331021695|   3.3861477000155|\n",
      "|2002-07-11 05:30:00|26.79090881| -0.7409930717866495| 3.200056768437582|\n",
      "|2002-07-12 05:30:00|26.79090881|                 0.0|3.0067039300983947|\n",
      "+-------------------+-----------+--------------------+------------------+\n",
      "only showing top 10 rows\n",
      "\n"
     ]
    }
   ],
   "source": [
    "spark.sql(\"\"\"\n",
    "SELECT\n",
    "Date,\n",
    "Close,\n",
    "Daily_Return,\n",
    "stddev(Daily_Return) OVER (ORDER BY Date ROWS BETWEEN 29 PRECEDING AND CURRENT ROW) AS Volatility_30\n",
    "FROM icici_stock\n",
    "ORDER BY Date\n",
    "\"\"\").show(10)"
   ]
  },
  {
   "cell_type": "markdown",
   "id": "e84311b2-30b6-4305-96b4-041a99adab1a",
   "metadata": {},
   "source": [
    "4.4 Detecting Seasonal Patterns"
   ]
  },
  {
   "cell_type": "markdown",
   "id": "19683973-bfa5-492b-9e41-f9723de1ac58",
   "metadata": {},
   "source": [
    "a) Monthly Trends in Closing Prices"
   ]
  },
  {
   "cell_type": "code",
   "execution_count": 126,
   "id": "dcd85024-3368-4054-951c-f8584d2cabe4",
   "metadata": {},
   "outputs": [
    {
     "name": "stdout",
     "output_type": "stream",
     "text": [
      "+-----+------------------+\n",
      "|Month|         Avg_Close|\n",
      "+-----+------------------+\n",
      "|    1|311.88765613250007|\n",
      "|    2|313.46152482630475|\n",
      "|    3| 295.2848237876993|\n",
      "|    4| 301.1020834953683|\n",
      "|    5|310.45393119755863|\n",
      "|    6|309.11974520747873|\n",
      "|    7| 307.9801058479606|\n",
      "|    8|314.32920311975255|\n",
      "|    9| 324.9658654297053|\n",
      "|   10| 329.1296669904948|\n",
      "|   11| 320.6251954350331|\n",
      "|   12|305.82673960119394|\n",
      "+-----+------------------+\n",
      "\n"
     ]
    }
   ],
   "source": [
    "spark.sql(\"\"\"\n",
    "SELECT\n",
    "MONTH(Date) AS Month,\n",
    "AVG(Close) AS Avg_Close\n",
    "FROM icici_stock\n",
    "GROUP BY MONTH(Date)\n",
    "ORDER BY Month\n",
    "\"\"\").show()"
   ]
  },
  {
   "cell_type": "markdown",
   "id": "03e3989d-9125-4ac8-ac68-2e6974a1cc45",
   "metadata": {},
   "source": [
    "4.5 Detect Anomalous Trends"
   ]
  },
  {
   "cell_type": "code",
   "execution_count": 129,
   "id": "f8726dc6-9865-4242-9116-4bf70dfcf46c",
   "metadata": {},
   "outputs": [
    {
     "name": "stdout",
     "output_type": "stream",
     "text": [
      "+-------------------+-----------+-------------------+\n",
      "|               Date|      Close|       Daily_Return|\n",
      "+-------------------+-----------+-------------------+\n",
      "|2009-05-18 05:30:00|128.5636292| 23.038103857646927|\n",
      "|2008-10-10 05:30:00|66.11817932|-19.856752339393942|\n",
      "|2020-03-23 05:30:00|      284.0|  -17.8478478514789|\n",
      "|2008-10-13 05:30:00|77.30000305| 16.911874835333872|\n",
      "|2008-10-31 05:30:00|       72.5|  15.46257471663437|\n",
      "|2017-10-25 05:30:00|305.7000122| 14.687685684448567|\n",
      "|2008-10-24 05:30:00|56.94545364|-14.379438145166255|\n",
      "|2003-08-21 05:30:00| 32.4272728| 13.852541484163897|\n",
      "|2020-04-07 05:30:00|326.1000061| 13.762432597072504|\n",
      "|2008-03-17 05:30:00|138.1727295|  -13.3416916736623|\n",
      "+-------------------+-----------+-------------------+\n",
      "only showing top 10 rows\n",
      "\n"
     ]
    }
   ],
   "source": [
    "spark.sql(\"\"\"\n",
    "SELECT\n",
    "Date,\n",
    "Close,\n",
    "Daily_Return\n",
    "FROM icici_stock\n",
    "WHERE ABS(Daily_Return) > (SELECT AVG(Daily_Return) + 3 * STDDEV(Daily_Return) FROM icici_stock)\n",
    "ORDER BY ABS(Daily_Return) DESC\n",
    "\"\"\").show(10)"
   ]
  },
  {
   "cell_type": "code",
   "execution_count": 131,
   "id": "9d8b1403-5814-4f1d-b266-a115e3c4933a",
   "metadata": {},
   "outputs": [
    {
     "data": {
      "image/png": "[encoded data removed]",
      "text/plain": [
       "<Figure size 1200x300 with 1 Axes>"
      ]
     },
     "metadata": {},
     "output_type": "display_data"
    }
   ],
   "source": [
    "import matplotlib.pyplot as plt\n",
    "\n",
    "# Convert to Pandas\n",
    "pandas_df = df_icici.select(\"Date\", \"Close\").orderBy(\"Date\").toPandas()\n",
    "\n",
    "# Plot\n",
    "plt.figure(figsize=(12, 3))\n",
    "plt.plot(pandas_df[\"Date\"], pandas_df[\"Close\"], label=\"Close Price\", color='blue')\n",
    "plt.title(\"ICICI Stock Close Price Over Time\")\n",
    "plt.xlabel(\"Date\")\n",
    "plt.ylabel(\"Close Price\")\n",
    "plt.grid(True)\n",
    "plt.legend()\n",
    "plt.show()\n"
   ]
  },
  {
   "cell_type": "code",
   "execution_count": 133,
   "id": "d555d68d-7988-4d35-b967-47c998c27210",
   "metadata": {},
   "outputs": [
    {
     "data": {
      "image/png": "[encoded data removed]",
      "text/plain": [
       "<Figure size 1200x300 with 1 Axes>"
      ]
     },
     "metadata": {},
     "output_type": "display_data"
    }
   ],
   "source": [
    "pandas_df = df_icici.select(\"Date\", \"Daily_Return\").orderBy(\"Date\").toPandas()\n",
    "\n",
    "# Bar plot\n",
    "plt.figure(figsize=(12, 3))\n",
    "plt.bar(pandas_df[\"Date\"], pandas_df[\"Daily_Return\"], color='orange')\n",
    "plt.title(\"Daily Returns\")\n",
    "plt.xlabel(\"Date\")\n",
    "plt.ylabel(\"Return (%)\")\n",
    "plt.show()\n"
   ]
  },
  {
   "cell_type": "code",
   "execution_count": 135,
   "id": "a244ceb9-45ca-46f0-9d40-bba3f846d175",
   "metadata": {},
   "outputs": [
    {
     "data": {
      "image/png": "[encoded data removed]",
      "text/plain": [
       "<Figure size 1200x300 with 1 Axes>"
      ]
     },
     "metadata": {},
     "output_type": "display_data"
    }
   ],
   "source": [
    "pandas_df = df_icici.select(\"Date\", \"Close\", \"Mov_Avg_50\", \"Mov_Avg_200\").orderBy(\"Date\").toPandas()\n",
    "\n",
    "plt.figure(figsize=(12, 3))\n",
    "plt.plot(pandas_df[\"Date\"], pandas_df[\"Close\"], label=\"Close\", color='blue')\n",
    "plt.plot(pandas_df[\"Date\"], pandas_df[\"Mov_Avg_50\"], label=\"50-Day MA\", color='green')\n",
    "plt.plot(pandas_df[\"Date\"], pandas_df[\"Mov_Avg_200\"], label=\"200-Day MA\", color='red')\n",
    "plt.title(\"ICICI Stock with Moving Averages\")\n",
    "plt.xlabel(\"Date\")\n",
    "plt.ylabel(\"Price\")\n",
    "plt.legend()\n",
    "plt.grid(True)\n",
    "plt.show()\n"
   ]
  },
  {
   "cell_type": "code",
   "execution_count": null,
   "id": "455225ad-d843-4822-8caa-b2f7e785dea9",
   "metadata": {},
   "outputs": [],
   "source": []
  }
 ],
 "metadata": {
  "kernelspec": {
   "display_name": "Python [conda env:base] *",
   "language": "python",
   "name": "conda-base-py"
  },
  "language_info": {
   "codemirror_mode": {
    "name": "ipython",
    "version": 3
   },
   "file_extension": ".py",
   "mimetype": "text/x-python",
   "name": "python",
   "nbconvert_exporter": "python",
   "pygments_lexer": "ipython3",
   "version": "3.12.7"
  }
 },
 "nbformat": 4,
 "nbformat_minor": 5
}
